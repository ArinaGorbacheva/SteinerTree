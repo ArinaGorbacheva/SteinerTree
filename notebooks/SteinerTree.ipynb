{
 "cells": [
  {
   "cell_type": "code",
   "execution_count": 3,
   "metadata": {
    "ExecuteTime": {
     "end_time": "2018-12-02T23:17:49.385332Z",
     "start_time": "2018-12-02T23:17:49.379147Z"
    }
   },
   "outputs": [
    {
     "data": {
      "application/javascript": [
       "IPython.notebook.set_autosave_interval(15000)"
      ]
     },
     "metadata": {},
     "output_type": "display_data"
    },
    {
     "name": "stdout",
     "output_type": "stream",
     "text": [
      "Autosaving every 15 seconds\n"
     ]
    }
   ],
   "source": [
    "import graph_tool.all as gt\n",
    "\n",
    "import numpy as np\n",
    "import scipy as sp\n",
    "import scipy.stats as sps\n",
    "\n",
    "import matplotlib.pyplot as plt\n",
    "import seaborn as sns\n",
    "\n",
    "%matplotlib inline\n",
    "%autosave 15"
   ]
  },
  {
   "cell_type": "markdown",
   "metadata": {},
   "source": [
    "Сгенерируем случайные графы в модели Эрдёша-Реньи (ну, почти; в graph-tool ничего более похожего сделать не удалось):"
   ]
  },
  {
   "cell_type": "code",
   "execution_count": 110,
   "metadata": {
    "ExecuteTime": {
     "end_time": "2018-12-03T00:04:17.710369Z",
     "start_time": "2018-12-03T00:04:17.699694Z"
    }
   },
   "outputs": [],
   "source": [
    "n, p = 10, 0.5\n",
    "G = gt.random_graph(n, lambda: np.random.poisson(n * p), directed=False);"
   ]
  },
  {
   "cell_type": "markdown",
   "metadata": {},
   "source": [
    "Подсчитаем матрицу кратчайших расстояний алгоритмом Флойда."
   ]
  },
  {
   "cell_type": "code",
   "execution_count": 111,
   "metadata": {
    "ExecuteTime": {
     "end_time": "2018-12-03T00:04:18.892440Z",
     "start_time": "2018-12-03T00:04:18.871891Z"
    }
   },
   "outputs": [],
   "source": [
    "w = G.new_edge_property(\"double\")\n",
    "w.a = np.random.rand(G.num_edges()) * 42\n",
    "sd = gt.shortest_distance(G, weights=w, directed=False, dense=True)\n",
    "sd_a = np.vstack([\n",
    "    [sd[v] for v in G.vertices()]\n",
    "])"
   ]
  },
  {
   "cell_type": "markdown",
   "metadata": {},
   "source": [
    "Выделим мин.остов в подграфе, индуцированном терминальными вершинами."
   ]
  },
  {
   "cell_type": "code",
   "execution_count": 112,
   "metadata": {
    "ExecuteTime": {
     "end_time": "2018-12-03T00:04:19.921854Z",
     "start_time": "2018-12-03T00:04:19.896355Z"
    }
   },
   "outputs": [],
   "source": [
    "KG = gt.complete_graph(n, directed=False)\n",
    "sd_w = KG.new_edge_property(\"double\")\n",
    "for e in KG.edges():\n",
    "    u, v = int(e.source()), int(e.target())\n",
    "    sd_w[e] = sd_a[u, v]\n",
    "V0 = np.array([1, 3, 7, 9])\n",
    "V0_vfilt = G.new_vertex_property(\"bool\")\n",
    "V0_vfilt.a[V0] = True\n",
    "KG_V0_induced = gt.GraphView(KG, vfilt=V0_vfilt)\n",
    "KG_V0_w = KG_V0_induced.new_vertex_property(\"double\")\n",
    "MST = gt.min_spanning_tree(KG_V0_induced, weights=sd_w)"
   ]
  },
  {
   "cell_type": "markdown",
   "metadata": {},
   "source": [
    "Подсчитаем его вес:"
   ]
  },
  {
   "cell_type": "code",
   "execution_count": 125,
   "metadata": {
    "ExecuteTime": {
     "end_time": "2018-12-03T00:10:46.776945Z",
     "start_time": "2018-12-03T00:10:46.766709Z"
    }
   },
   "outputs": [
    {
     "name": "stdout",
     "output_type": "stream",
     "text": [
      "20.424116122809174\n"
     ]
    }
   ],
   "source": [
    "mst_cost = 0\n",
    "for e in KG_V0_induced.edges():\n",
    "    if MST[e]:\n",
    "        mst_cost += sd_w[e]\n",
    "print(mst_cost)"
   ]
  },
  {
   "cell_type": "markdown",
   "metadata": {},
   "source": [
    "Сравним с весом реального дерева Штейнера (а как его подсчитать?):"
   ]
  },
  {
   "cell_type": "code",
   "execution_count": 126,
   "metadata": {
    "ExecuteTime": {
     "end_time": "2018-12-03T00:11:32.726650Z",
     "start_time": "2018-12-03T00:11:32.398826Z"
    }
   },
   "outputs": [
    {
     "name": "stdout",
     "output_type": "stream",
     "text": [
      "57.578846045568596\n"
     ]
    }
   ],
   "source": [
    "paths = gt.all_paths(G, source=V0[0], target=V0[-1])\n",
    "mincost = np.inf\n",
    "for path in paths:\n",
    "    if np.all(np.isin(V0, path)):\n",
    "        cost = 0\n",
    "        for i in range(len(path) - 1):\n",
    "            cost += w[G.edge(path[i], path[i+1])]\n",
    "        mincost = min(mincost, cost)\n",
    "print(mincost)"
   ]
  },
  {
   "cell_type": "code",
   "execution_count": null,
   "metadata": {},
   "outputs": [],
   "source": []
  }
 ],
 "metadata": {
  "kernelspec": {
   "display_name": "Python [default]",
   "language": "python",
   "name": "python3"
  },
  "toc": {
   "base_numbering": 1,
   "nav_menu": {},
   "number_sections": true,
   "sideBar": true,
   "skip_h1_title": false,
   "title_cell": "Table of Contents",
   "title_sidebar": "Contents",
   "toc_cell": false,
   "toc_position": {},
   "toc_section_display": true,
   "toc_window_display": false
  },
  "varInspector": {
   "cols": {
    "lenName": 16,
    "lenType": 16,
    "lenVar": 40
   },
   "kernels_config": {
    "python": {
     "delete_cmd_postfix": "",
     "delete_cmd_prefix": "del ",
     "library": "var_list.py",
     "varRefreshCmd": "print(var_dic_list())"
    },
    "r": {
     "delete_cmd_postfix": ") ",
     "delete_cmd_prefix": "rm(",
     "library": "var_list.r",
     "varRefreshCmd": "cat(var_dic_list()) "
    }
   },
   "types_to_exclude": [
    "module",
    "function",
    "builtin_function_or_method",
    "instance",
    "_Feature"
   ],
   "window_display": false
  }
 },
 "nbformat": 4,
 "nbformat_minor": 2
}
